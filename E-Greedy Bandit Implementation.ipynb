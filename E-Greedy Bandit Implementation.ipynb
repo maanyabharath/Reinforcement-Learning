{
 "cells": [
  {
   "cell_type": "code",
   "execution_count": 1,
   "id": "caf955bf",
   "metadata": {},
   "outputs": [],
   "source": [
    "import numpy as np\n",
    "import random"
   ]
  },
  {
   "cell_type": "code",
   "execution_count": 76,
   "id": "13c64dd9",
   "metadata": {},
   "outputs": [],
   "source": [
    "def polynomial(x: float) -> float:\n",
    "    y=1.5 * x**2 - 2 * x + 5\n",
    "    return   y\n",
    "\n",
    "x = np.linspace(-20, 20, 100)\n",
    "y = polynomial(x) + np.random.normal(0, 1, 100)"
   ]
  },
  {
   "cell_type": "code",
   "execution_count": 77,
   "id": "485a9b3b",
   "metadata": {},
   "outputs": [],
   "source": [
    "class Indv:\n",
    "    def __init__(self):\n",
    "        self.genes = np.random.normal(0, 1, 3)  \n",
    "        self.fitness = 0\n",
    "\n",
    "    def calculate_fitness(self):\n",
    "        predictions = self.genes[0] * X**2 + self.genes[1] * X + self.genes[2]\n",
    "        self.fitness = -np.mean((Y - predictions)**2)"
   ]
  },
  {
   "cell_type": "code",
   "execution_count": 78,
   "id": "1ee45cb7",
   "metadata": {},
   "outputs": [],
   "source": [
    "class GA:\n",
    "    def __init__(self, population_size: int = 100):\n",
    "        self.population = [Individual() for _ in range(population_size)]\n",
    "\n",
    "    def evolve(self, mutation_rate: float, crossover_rate: float):\n",
    "        for ind in self.population:\n",
    "            ind.calculate_fitness()\n",
    "\n",
    "        self.population.sort(key=lambda x: x.fitness, reverse=True)\n",
    "        new_population = self.population[:2]  # Elitism\n",
    "\n",
    "        while len(new_population) < len(self.population):\n",
    "            if random.random() < crossover_rate:\n",
    "                parent1 = self.tournament_selection()\n",
    "                parent2 = self.tournament_selection()\n",
    "                child = Individual()\n",
    "                child.genes = np.where(np.random.rand(3) < 0.5, parent1.genes, parent2.genes)\n",
    "                new_population.append(child)\n",
    "            else:\n",
    "                new_population.append(random.choice(self.population[:10]))\n",
    "\n",
    "        for ind in new_population[2:]:\n",
    "            if random.random() < mutation_rate:\n",
    "                ind.genes += np.random.normal(0, 0.1 / (1 + np.exp(-ind.fitness)), 3)  \n",
    "\n",
    "        self.population = new_population\n",
    "\n",
    "    def tournament_selection(self, k=3):\n",
    "        selected = random.sample(self.population, k)\n",
    "        return max(selected, key=lambda ind: ind.fitness)"
   ]
  },
  {
   "cell_type": "code",
   "execution_count": 79,
   "id": "e2766fee",
   "metadata": {},
   "outputs": [],
   "source": [
    "class Arm:\n",
    "    def __init__(self, mutation_rate: float, crossover_rate: float):\n",
    "        self.mutation_rate = mutation_rate\n",
    "        self.crossover_rate = crossover_rate\n",
    "        self.value = 0\n",
    "        self.pulls = 0"
   ]
  },
  {
   "cell_type": "code",
   "execution_count": 80,
   "id": "f9e8e82e",
   "metadata": {},
   "outputs": [],
   "source": [
    "class KArmBandit:\n",
    "    def __init__(self, arms: List[Arm]):\n",
    "        self.arms = arms\n",
    "\n",
    "    def softmax(self, values, temperature=1.0):\n",
    "        values = np.array(values)  \n",
    "        exp_values = np.exp(values / temperature)\n",
    "        return exp_values / np.sum(exp_values)\n",
    "\n",
    "    def select_arm(self, temperature: float) -> Arm:\n",
    "        values = [arm.value for arm in self.arms]\n",
    "        probabilities = self.softmax(values, temperature)\n",
    "        selected_index = np.random.choice(len(self.arms), p=probabilities)\n",
    "        return self.arms[selected_index]\n",
    "\n",
    "    def update_arm(self, arm: Arm, reward: float):\n",
    "        arm.pulls += 1\n",
    "        arm.value += (reward - arm.value) / arm.pulls"
   ]
  },
  {
   "cell_type": "code",
   "execution_count": 81,
   "id": "bd7ad217",
   "metadata": {},
   "outputs": [
    {
     "name": "stdout",
     "output_type": "stream",
     "text": [
      "Best mutation rate: 0.3, Best crossover rate: 0.8\n"
     ]
    }
   ],
   "source": [
    "arms = [\n",
    "    Arm(mutation_rate=0.05, crossover_rate=0.7),\n",
    "    Arm(mutation_rate=0.1, crossover_rate=0.6),\n",
    "    Arm(mutation_rate=0.2, crossover_rate=0.5),\n",
    "    Arm(mutation_rate=0.3, crossover_rate=0.8),\n",
    "]\n",
    "\n",
    "bandit = KArmBandit(arms)\n",
    "temperature = 1.0  \n",
    "\n",
    "def simulate_genetic_algorithm(mutation_rate, crossover_rate):\n",
    "    return np.random.normal(loc=5 * mutation_rate + 2 * crossover_rate, scale=1)\n",
    "\n",
    "for trial in range(100):\n",
    "    selected_arm = bandit.select_arm(temperature)\n",
    "\n",
    "    reward = simulate_genetic_algorithm(selected_arm.mutation_rate, selected_arm.crossover_rate)\n",
    "\n",
    "    bandit.update_arm(selected_arm, reward)\n",
    "\n",
    "best_arm = max(arms, key=lambda arm: arm.value)\n",
    "print(f\"Best mutation rate: {best_arm.mutation_rate}, Best crossover rate: {best_arm.crossover_rate}\")\n"
   ]
  }
 ],
 "metadata": {
  "kernelspec": {
   "display_name": "Python 3 (ipykernel)",
   "language": "python",
   "name": "python3"
  },
  "language_info": {
   "codemirror_mode": {
    "name": "ipython",
    "version": 3
   },
   "file_extension": ".py",
   "mimetype": "text/x-python",
   "name": "python",
   "nbconvert_exporter": "python",
   "pygments_lexer": "ipython3",
   "version": "3.9.18"
  }
 },
 "nbformat": 4,
 "nbformat_minor": 5
}
